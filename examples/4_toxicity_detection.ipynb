{
 "cells": [
  {
   "cell_type": "code",
   "execution_count": 1,
   "id": "ecc7be4d",
   "metadata": {},
   "outputs": [
    {
     "name": "stdout",
     "output_type": "stream",
     "text": [
      "CPU times: total: 422 ms\n",
      "Wall time: 840 ms\n"
     ]
    }
   ],
   "source": [
    "%%time\n",
    "import sys\n",
    "sys.path.append('..')\n",
    "\n",
    "from translation.toxicity import ToxicityCounter"
   ]
  },
  {
   "cell_type": "code",
   "execution_count": 2,
   "id": "ae353b5e",
   "metadata": {},
   "outputs": [
    {
     "data": {
      "text/plain": [
       "{'toxicity': {'words': [['puta', 'mierda'], []], 'count': [2, 0]}}"
      ]
     },
     "execution_count": 2,
     "metadata": {},
     "output_type": "execute_result"
    }
   ],
   "source": [
    "data_input = ['vaya puta mierda', 'Mi querido amigo perro']\n",
    "langs = ['spa_Latn','spa_Latn']\n",
    "\n",
    "tox = ToxicityCounter()\n",
    "\n",
    "tox.etox_single_list(data_input, langs)"
   ]
  }
 ],
 "metadata": {
  "kernelspec": {
   "display_name": "Python 3 (ipykernel)",
   "language": "python",
   "name": "python3"
  },
  "language_info": {
   "codemirror_mode": {
    "name": "ipython",
    "version": 3
   },
   "file_extension": ".py",
   "mimetype": "text/x-python",
   "name": "python",
   "nbconvert_exporter": "python",
   "pygments_lexer": "ipython3",
   "version": "3.10.7"
  },
  "vscode": {
   "interpreter": {
    "hash": "7db6fb53febdc3196686046b12f327dc4c349bad215f9d53031f3baf90b60ac4"
   }
  }
 },
 "nbformat": 4,
 "nbformat_minor": 5
}
