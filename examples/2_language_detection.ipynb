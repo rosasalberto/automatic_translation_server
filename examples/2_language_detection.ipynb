{
 "cells": [
  {
   "cell_type": "code",
   "execution_count": 3,
   "id": "ecc7be4d",
   "metadata": {},
   "outputs": [
    {
     "name": "stdout",
     "output_type": "stream",
     "text": [
      "Wall time: 0 ns\n"
     ]
    }
   ],
   "source": [
    "%%time\n",
    "import sys\n",
    "sys.path.append('..')\n",
    "\n",
    "from translation.lid import LanguageDetection"
   ]
  },
  {
   "cell_type": "code",
   "execution_count": 5,
   "id": "f24b1d37",
   "metadata": {},
   "outputs": [
    {
     "name": "stderr",
     "output_type": "stream",
     "text": [
      "Warning : `load_model` does not return WordVectorModel or SupervisedModel any more, but a `FastText` object which is very similar.\n"
     ]
    },
    {
     "data": {
      "text/plain": [
       "{'input_text': ['El amanecer es como acaba el dia',\n",
       "  'Je pense a tois tout le temps'],\n",
       " 'lid': {'lang': ['spa_Latn', 'fra_Latn'],\n",
       "  'scores': [0.9938796758651733, 0.9996699094772339]}}"
      ]
     },
     "execution_count": 5,
     "metadata": {},
     "output_type": "execute_result"
    }
   ],
   "source": [
    "lid_model = LanguageDetection()\n",
    "text_input = [\"El amanecer es como acaba el dia\",\"Je pense a tois tout le temps\"]\n",
    "\n",
    "response = lid_model.detect(text_input)\n",
    "response"
   ]
  },
  {
   "cell_type": "code",
   "execution_count": 6,
   "id": "f0169baf",
   "metadata": {},
   "outputs": [
    {
     "name": "stdout",
     "output_type": "stream",
     "text": [
      "Text: El amanecer es como acaba el dia\n",
      "Language:spa_Latn\n",
      "Score:0.9938796758651733\n",
      "\n",
      "Text: Je pense a tois tout le temps\n",
      "Language:fra_Latn\n",
      "Score:0.9996699094772339\n",
      "\n"
     ]
    }
   ],
   "source": [
    "for i in range(len(response['input_text'])):\n",
    "    print(\"Text: {}\\nLanguage:{}\\nScore:{}\\n\".format(response['input_text'][i], \n",
    "                                                       response['lid']['lang'][i], \n",
    "                                                       response['lid']['scores'][i]))"
   ]
  }
 ],
 "metadata": {
  "kernelspec": {
   "display_name": "Python 3",
   "language": "python",
   "name": "python3"
  },
  "language_info": {
   "codemirror_mode": {
    "name": "ipython",
    "version": 3
   },
   "file_extension": ".py",
   "mimetype": "text/x-python",
   "name": "python",
   "nbconvert_exporter": "python",
   "pygments_lexer": "ipython3",
   "version": "3.7.2"
  },
  "vscode": {
   "interpreter": {
    "hash": "b76d4f20ef67ff4c28a4f2ec3ed746a74f780de9853b3c87d4e309b9e024fb61"
   }
  }
 },
 "nbformat": 4,
 "nbformat_minor": 5
}
