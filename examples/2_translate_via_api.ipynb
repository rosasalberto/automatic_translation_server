{
 "cells": [
  {
   "cell_type": "markdown",
   "id": "8284c1a1",
   "metadata": {},
   "source": [
    "$ uvicorn server:app --reload <br/> (Run server before on parent folder)"
   ]
  },
  {
   "cell_type": "code",
   "execution_count": 1,
   "id": "66ff1db7",
   "metadata": {},
   "outputs": [],
   "source": [
    "import json\n",
    "import requests\n",
    "\n",
    "domain = 'http://127.0.0.1:8000/'\n",
    "endpoint = 'translate'"
   ]
  },
  {
   "cell_type": "code",
   "execution_count": 2,
   "id": "b52fcc35",
   "metadata": {},
   "outputs": [
    {
     "name": "stdout",
     "output_type": "stream",
     "text": [
      "CPU times: total: 46.9 ms\n",
      "Wall time: 2.2 s\n"
     ]
    },
    {
     "data": {
      "text/plain": [
       "{'input': {'text': ['El amanecer es como acaba el dia&langs_out=fra_Latn,zho_Hans'],\n",
       "  'lang_out': ['spa_Latn', 'eng_Latn'],\n",
       "  'lid': {'lang': ['spa_Latn'], 'scores': [0.9606941938400269]},\n",
       "  'toxicity': {'words': [[]], 'count': [0]}},\n",
       " 'result': {'spa_Latn': {'text': ['El amanecer es como acaba el dia&langs_out=fra_Latn,zho_Hans'],\n",
       "   'toxicity': {'words': [[]], 'count': [0], 'added_toxicity': [False]}},\n",
       "  'eng_Latn': {'text': ['The dawn is how the day ends'],\n",
       "   'toxicity': {'words': [[]], 'count': [0], 'added_toxicity': [False]}},\n",
       "  'fra_Latn': None,\n",
       "  'zho_Hans': None}}"
      ]
     },
     "execution_count": 2,
     "metadata": {},
     "output_type": "execute_result"
    }
   ],
   "source": [
    "%%time\n",
    "\n",
    "text_input = \"El amanecer es como acaba el dia\"\n",
    "langs_out = 'fra_Latn,zho_Hans'\n",
    "\n",
    "resp = requests.get('{}{}/{}&langs_out={}'.format(domain, endpoint, text_input, langs_out))\n",
    "d = json.loads(resp.text)\n",
    "d"
   ]
  },
  {
   "cell_type": "code",
   "execution_count": 3,
   "id": "fb205ee1",
   "metadata": {},
   "outputs": [
    {
     "name": "stdout",
     "output_type": "stream",
     "text": [
      "CPU times: total: 0 ns\n",
      "Wall time: 3.68 s\n"
     ]
    },
    {
     "data": {
      "text/plain": [
       "{'input': {'text': ['El amanecer es como acaba el dia',\n",
       "   'Je pense a tois tout le temps ahora&langs_out=fra_Latn,zho_Hans'],\n",
       "  'lang_out': ['spa_Latn', 'eng_Latn'],\n",
       "  'lid': {'lang': ['spa_Latn', 'fra_Latn'],\n",
       "   'scores': [0.9938796758651733, 0.8089483380317688]},\n",
       "  'toxicity': {'words': [[], []], 'count': [0, 0]}},\n",
       " 'result': {'spa_Latn': {'text': ['El amanecer es como acaba el dia',\n",
       "    'Y ahora, y ahora, y ahora, y ahora, y ahora, y ahora, y ahora, y ahora, y ahora, y'],\n",
       "   'toxicity': {'words': [[], []],\n",
       "    'count': [0, 0],\n",
       "    'added_toxicity': [False, False]}},\n",
       "  'eng_Latn': {'text': ['The dawn is like the end of the day',\n",
       "    'I think toys all the time now & langs_out='],\n",
       "   'toxicity': {'words': [[], []],\n",
       "    'count': [0, 0],\n",
       "    'added_toxicity': [False, False]}},\n",
       "  'fra_Latn': None,\n",
       "  'zho_Hans': None}}"
      ]
     },
     "execution_count": 3,
     "metadata": {},
     "output_type": "execute_result"
    }
   ],
   "source": [
    "%%time\n",
    "\n",
    "text_input = \"El amanecer es como acaba el dia. Je pense a tois tout le temps ahora\"\n",
    "langs_out = 'fra_Latn,zho_Hans'\n",
    "\n",
    "resp = requests.get('{}{}/{}&langs_out={}'.format(domain, endpoint, text_input, langs_out))\n",
    "d = json.loads(resp.text)\n",
    "d"
   ]
  }
 ],
 "metadata": {
  "kernelspec": {
   "display_name": "Python 3 (ipykernel)",
   "language": "python",
   "name": "python3"
  },
  "language_info": {
   "codemirror_mode": {
    "name": "ipython",
    "version": 3
   },
   "file_extension": ".py",
   "mimetype": "text/x-python",
   "name": "python",
   "nbconvert_exporter": "python",
   "pygments_lexer": "ipython3",
   "version": "3.10.7"
  },
  "vscode": {
   "interpreter": {
    "hash": "7db6fb53febdc3196686046b12f327dc4c349bad215f9d53031f3baf90b60ac4"
   }
  }
 },
 "nbformat": 4,
 "nbformat_minor": 5
}
