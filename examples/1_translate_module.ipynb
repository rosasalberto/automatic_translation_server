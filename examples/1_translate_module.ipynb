{
 "cells": [
  {
   "cell_type": "code",
   "execution_count": 1,
   "id": "3563a660",
   "metadata": {},
   "outputs": [
    {
     "name": "stdout",
     "output_type": "stream",
     "text": [
      "Wall time: 875 ms\n"
     ]
    }
   ],
   "source": [
    "%%time\n",
    "import sys\n",
    "sys.path.append('..')\n",
    "\n",
    "from translation.translator import Translator"
   ]
  },
  {
   "cell_type": "code",
   "execution_count": 2,
   "id": "d0f91fbb",
   "metadata": {},
   "outputs": [
    {
     "name": "stdout",
     "output_type": "stream",
     "text": [
      "2022-12-24 01:46:46     Available langs to translate: ['spa_Latn', 'eng_Latn']\n"
     ]
    },
    {
     "name": "stderr",
     "output_type": "stream",
     "text": [
      "Warning : `load_model` does not return WordVectorModel or SupervisedModel any more, but a `FastText` object which is very similar.\n"
     ]
    }
   ],
   "source": [
    "# initializing Translator with only \"spa_Latn\",\"eng_Latn\" available to translate\n",
    "translation_langs = [\"spa_Latn\",\"eng_Latn\"]\n",
    "translator = Translator(translation_langs)"
   ]
  },
  {
   "cell_type": "code",
   "execution_count": 3,
   "id": "bda9c95f",
   "metadata": {},
   "outputs": [
    {
     "name": "stdout",
     "output_type": "stream",
     "text": [
      "Wall time: 2.8 s\n"
     ]
    },
    {
     "data": {
      "text/plain": [
       "{'input': {'text': ['El amanecer es como acaba el dia'],\n",
       "  'lang_out': ['spa_Latn', 'eng_Latn'],\n",
       "  'lid': {'lang': ['spa_Latn'], 'scores': [0.9938796758651733]},\n",
       "  'toxicity': {'words': [[]], 'count': [0]}},\n",
       " 'result': {'spa_Latn': {'text': ['El amanecer es como acaba el dia'],\n",
       "   'toxicity': {'words': [[]], 'count': [0], 'added_toxicity': [False]}},\n",
       "  'eng_Latn': {'text': ['The dawn is like the end of the day'],\n",
       "   'toxicity': {'words': [[]], 'count': [0], 'added_toxicity': [False]}}}}"
      ]
     },
     "execution_count": 3,
     "metadata": {},
     "output_type": "execute_result"
    }
   ],
   "source": [
    "%%time\n",
    "text_input = [\"El amanecer es como acaba el dia\"]\n",
    "\n",
    "translation = translator.translate_input(text_input, max_length=1000)\n",
    "translation"
   ]
  },
  {
   "cell_type": "code",
   "execution_count": 4,
   "id": "d0651fcf",
   "metadata": {},
   "outputs": [
    {
     "name": "stdout",
     "output_type": "stream",
     "text": [
      "Wall time: 1.68 s\n"
     ]
    },
    {
     "data": {
      "text/plain": [
       "{'input': {'text': ['El amanecer es como acaba el dia'],\n",
       "  'lang_out': ['spa_Latn', 'eng_Latn'],\n",
       "  'lid': {'lang': ['spa_Latn'], 'scores': [0.9938796758651733]},\n",
       "  'toxicity': {'words': [[]], 'count': [0]}},\n",
       " 'result': {'spa_Latn': {'text': ['El amanecer es como acaba el dia'],\n",
       "   'toxicity': {'words': [[]], 'count': [0], 'added_toxicity': [False]}},\n",
       "  'eng_Latn': {'text': ['The dawn is like the end of the day'],\n",
       "   'toxicity': {'words': [[]], 'count': [0], 'added_toxicity': [False]}}}}"
      ]
     },
     "execution_count": 4,
     "metadata": {},
     "output_type": "execute_result"
    }
   ],
   "source": [
    "%%time\n",
    "# input can be list[str] or str\n",
    "text_input = \"El amanecer es como acaba el dia\"\n",
    "\n",
    "translation = translator.translate_input(text_input, max_length=1000)\n",
    "translation"
   ]
  },
  {
   "cell_type": "code",
   "execution_count": 5,
   "id": "50a4eed8",
   "metadata": {},
   "outputs": [
    {
     "name": "stdout",
     "output_type": "stream",
     "text": [
      "Wall time: 3.94 s\n"
     ]
    },
    {
     "data": {
      "text/plain": [
       "{'input': {'text': ['El amanecer es como acaba el dia puta',\n",
       "   'Je pense a tois tout le temps pute',\n",
       "   '明月几时有？把酒问青天。不知天上宫阙',\n",
       "   'who is the kid of this dog'],\n",
       "  'lang_out': ['spa_Latn', 'eng_Latn'],\n",
       "  'lid': {'lang': ['spa_Latn', 'fra_Latn', 'ast_Latn', 'eng_Latn'],\n",
       "   'scores': [0.992750346660614,\n",
       "    0.9992942214012146,\n",
       "    0.09252188354730606,\n",
       "    1.0000100135803223]},\n",
       "  'toxicity': {'words': [['puta'], ['pute'], [], []], 'count': [1, 1, 0, 0]}},\n",
       " 'result': {'spa_Latn': {'text': ['El amanecer es como acaba el dia puta',\n",
       "    'Yo pienso en ti todo el tiempo puta',\n",
       "    '¿Cuántas horas mañana?',\n",
       "    '¿Quién es el niño de este perro?'],\n",
       "   'toxicity': {'words': [['puta'], ['puta'], [], []],\n",
       "    'count': [1, 1, 0, 0],\n",
       "    'added_toxicity': [False, False, False, False]}},\n",
       "  'eng_Latn': {'text': ['The dawn is like the end of the day',\n",
       "    'I think a toy is all the time',\n",
       "    'Tomorrow is the day of the wedding.',\n",
       "    'who is the kid of this dog'],\n",
       "   'toxicity': {'words': [[], [], [], []],\n",
       "    'count': [0, 0, 0, 0],\n",
       "    'added_toxicity': [False, False, False, False]}}}}"
      ]
     },
     "execution_count": 5,
     "metadata": {},
     "output_type": "execute_result"
    }
   ],
   "source": [
    "%%time\n",
    "text_input = [\"El amanecer es como acaba el dia puta\",\"Je pense a tois tout le temps pute\",\n",
    "              \"明月几时有？把酒问青天。不知天上宫阙\",\"who is the kid of this dog\"]\n",
    "\n",
    "translation = translator.translate_input(text_input, langs_out=['spa_Latn',\"eng_Latn\"], max_length=1000)\n",
    "translation"
   ]
  }
 ],
 "metadata": {
  "kernelspec": {
   "display_name": "Python 3",
   "language": "python",
   "name": "python3"
  },
  "language_info": {
   "codemirror_mode": {
    "name": "ipython",
    "version": 3
   },
   "file_extension": ".py",
   "mimetype": "text/x-python",
   "name": "python",
   "nbconvert_exporter": "python",
   "pygments_lexer": "ipython3",
   "version": "3.7.2"
  },
  "vscode": {
   "interpreter": {
    "hash": "b76d4f20ef67ff4c28a4f2ec3ed746a74f780de9853b3c87d4e309b9e024fb61"
   }
  }
 },
 "nbformat": 4,
 "nbformat_minor": 5
}
